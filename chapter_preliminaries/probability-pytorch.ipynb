{
 "cells": [
  {
   "cell_type": "markdown",
   "metadata": {},
   "source": [
    "# Probability\n",
    ":label:`sec_prob`\n",
    "\n",
    "In some form or another, machine learning is all about making predictions.\n",
    "We might want to predict the *probability* of a patient suffering a heart attack in the next year, given their clinical history. In anomaly detection, we might want to assess how *likely* a set of readings from an airplane's jet engine would be, were it operating normally. In reinforcement learning, we want an agent to act intelligently in an environment. This means we need to think about the probability of getting a high reward under each of the available actions. And when we build recommender systems we also need to think about probability. For example, say *hypothetically* that we worked for a large online bookseller. We might want to estimate the probability that a particular user would buy a particular book. For this we need to use the language of probability.\n",
    "Entire courses, majors, theses, careers, and even departments, are devoted to probability. So naturally, our goal in this section is not to teach the whole subject. Instead we hope to get you off the ground, to teach you just enough that you can start building your first deep learning models, and to give you enough of a flavor for the subject that you can begin to explore it on your own if you wish.\n",
    "\n",
    "We have already invoked probabilities in previous sections without articulating what precisely they are or giving a concrete example. Let us get more serious now by considering the first case: distinguishing cats and dogs based on photographs. This might sound simple but it is actually a formidable challenge. To start with, the difficulty of the problem may depend on the resolution of the image.\n",
    "\n",
    "![Images of varying resolutions ($10 \\times 10$, $20 \\times 20$, $40 \\times 40$, $80 \\times 80$, and $160 \\times 160$ pixels).](../img/cat_dog_pixels.png)\n",
    ":width:`300px`\n",
    ":label:`fig_cat_dog`\n",
    "\n",
    "As shown in :numref:`fig_cat_dog`,\n",
    "while it is easy for humans to recognize cats and dogs at the resolution of $160 \\times 160$ pixels,\n",
    "it becomes challenging at $40 \\times 40$ pixels and next to impossible at $10 \\times 10$ pixels. In\n",
    "other words, our ability to tell cats and dogs apart at a large distance (and thus low resolution) might approach uninformed guessing. Probability gives us a\n",
    "formal way of reasoning about our level of certainty.\n",
    "If we are completely sure\n",
    "that the image depicts a cat, we say that the *probability* that the corresponding label $y$ is \"cat\", denoted $P(y=$ \"cat\"$)$ equals $1$.\n",
    "If we had no evidence to suggest that $y =$ \"cat\" or that $y =$ \"dog\", then we might say that the two possibilities were equally\n",
    "*likely* expressing this as $P(y=$ \"cat\"$) = P(y=$ \"dog\"$) = 0.5$. If we were reasonably\n",
    "confident, but not sure that the image depicted a cat, we might assign a\n",
    "probability $0.5  < P(y=$ \"cat\"$) < 1$.\n",
    "\n",
    "Now consider the second case: given some weather monitoring data, we want to predict the probability that it will rain in Taipei tomorrow. If it is summertime, the rain might come with probability 0.5.\n",
    "\n",
    "In both cases, we have some value of interest. And in both cases we are uncertain about the outcome.\n",
    "But there is a key difference between the two cases. In this first case, the image is in fact either a dog or a cat, and we just do not know which. In the second case, the outcome may actually be a random event, if you believe in such things (and most physicists do). So probability is a flexible language for reasoning about our level of certainty, and it can be applied effectively in a broad set of contexts."
   ]
  },
  {
   "cell_type": "markdown",
   "metadata": {},
   "source": [
    "## Basic Probability Theory\n",
    "\n",
    "Say that we cast a die and want to know what the chance is of seeing a 1 rather than another digit. If the die is fair, all the six outcomes $\\{1, \\ldots, 6\\}$ are equally likely to occur, and thus we would see a $1$ in one out of six cases. Formally we state that $1$ occurs with probability $\\frac{1}{6}$.\n",
    "\n",
    "For a real die that we receive from a factory, we might not know those proportions and we would need to check whether it is tainted. The only way to investigate the die is by casting it many times and recording the outcomes. For each cast of the die, we will observe a value in $\\{1, \\ldots, 6\\}$. Given these outcomes, we want to investigate the probability of observing each outcome.\n",
    "\n",
    "One natural approach for each value is to take the\n",
    "individual count for that value and to divide it by the total number of tosses.\n",
    "This gives us an *estimate* of the probability of a given *event*. The *law of\n",
    "large numbers* tell us that as the number of tosses grows this estimate will draw closer and closer to the true underlying probability. Before going into the details of what is going here, let us try it out.\n",
    "\n",
    "To start, let us import the necessary packages."
   ]
  },
  {
   "cell_type": "code",
   "execution_count": 7,
   "metadata": {},
   "outputs": [],
   "source": [
    "%matplotlib widget\n",
    "import matplotlib.pyplot as plt\n",
    "import torch\n",
    "from torch.distributions import multinomial"
   ]
  },
  {
   "cell_type": "markdown",
   "metadata": {},
   "source": [
    "Next, we will want to be able to cast the die. In statistics we call this process\n",
    "of drawing examples from probability distributions *sampling*.\n",
    "The distribution\n",
    "that assigns probabilities to a number of discrete choices is called the\n",
    "*multinomial distribution*. We will give a more formal definition of\n",
    "*distribution* later, but at a high level, think of it as just an assignment of\n",
    "probabilities to events."
   ]
  },
  {
   "cell_type": "markdown",
   "metadata": {},
   "source": [
    "In MXNet, we can sample from the multinomial distribution via the aptly named `np.random.multinomial` function. The function can be called in many ways, but we will focus on the simplest. To draw a single sample, we simply pass in a vector of probabilities. The output of the `np.random.multinomial` function is another vector of the same length: its value at index  $i$  is the number of times the sampling outcome corresponds to  $i$ ."
   ]
  },
  {
   "cell_type": "code",
   "execution_count": 30,
   "metadata": {},
   "outputs": [
    {
     "data": {
      "text/plain": [
       "tensor([0., 0., 0., 1., 0., 0.])"
      ]
     },
     "execution_count": 30,
     "metadata": {},
     "output_type": "execute_result"
    }
   ],
   "source": [
    "fair_probs = torch.ones(size=(6,))/6\n",
    "multinomial.Multinomial(1, fair_probs).sample() # One experiment"
   ]
  },
  {
   "cell_type": "markdown",
   "metadata": {},
   "source": [
    "If you run the sampler a bunch of times, you will find that you get out random values each time. As with estimating the fairness of a die, we often want to generate many samples from the same distribution. It would be unbearably slow to do this with a Python for loop, so `np.random.multinomial` supports drawing multiple samples at once, returning an array of independent samples in any shape we might desire."
   ]
  },
  {
   "cell_type": "code",
   "execution_count": 37,
   "metadata": {},
   "outputs": [
    {
     "data": {
      "text/plain": [
       "tensor([2., 1., 3., 1., 1., 2.])"
      ]
     },
     "execution_count": 37,
     "metadata": {},
     "output_type": "execute_result"
    }
   ],
   "source": [
    "multinomial.Multinomial(10, fair_probs).sample() # Ten experiment"
   ]
  },
  {
   "cell_type": "markdown",
   "metadata": {},
   "source": [
    "We can also conduct, say, 3 groups of experiments, where each group draws 10 samples, all at once."
   ]
  },
  {
   "cell_type": "code",
   "execution_count": 38,
   "metadata": {},
   "outputs": [
    {
     "data": {
      "text/plain": [
       "tensor([[2., 0., 3., 4., 0., 1.],\n",
       "        [1., 0., 5., 3., 1., 0.],\n",
       "        [3., 2., 0., 0., 0., 5.]])"
      ]
     },
     "execution_count": 38,
     "metadata": {},
     "output_type": "execute_result"
    }
   ],
   "source": [
    "counts = multinomial.Multinomial(10, fair_probs).sample((3,))\n",
    "counts # 3 x 10 matrix each row is a group where 10 experiments were drawn"
   ]
  },
  {
   "cell_type": "markdown",
   "metadata": {},
   "source": [
    "Now that we know how to sample rolls of a die, we can simulate 1000 rolls. We can then go through and count, after each of the 1000 rolls, how many times each number was rolled. Specifically, we calculate the relative frequency as the estimate of the true probability. If we use gretar simulate counts the probability as frequence will aproach to $\\frac{1}{6}$"
   ]
  },
  {
   "cell_type": "code",
   "execution_count": 40,
   "metadata": {},
   "outputs": [
    {
     "data": {
      "text/plain": [
       "tensor([0.1630, 0.1520, 0.1850, 0.1740, 0.1590, 0.1670])"
      ]
     },
     "execution_count": 40,
     "metadata": {},
     "output_type": "execute_result"
    }
   ],
   "source": [
    "# Store the results as 32-bit floats for division\n",
    "number_experiments = 1000\n",
    "counts = multinomial.Multinomial(number_experiments, fair_probs).sample()\n",
    "counts / number_experiments  # Relative frequency as the estimate => count_per_event/total_events"
   ]
  },
  {
   "cell_type": "markdown",
   "metadata": {},
   "source": [
    "Because we generated the data from a fair die, we know that each outcome has true probability  $\\frac{1}{6}$ , roughly  0.167 , so the above output estimates look good."
   ]
  },
  {
   "cell_type": "markdown",
   "metadata": {},
   "source": [
    "We can also visualize how these probabilities converge over time towards the true probability. Let us conduct 500 groups of experiments where each group draws 10 samples"
   ]
  },
  {
   "cell_type": "code",
   "execution_count": 42,
   "metadata": {},
   "outputs": [
    {
     "data": {
      "application/vnd.jupyter.widget-view+json": {
       "model_id": "79268a25be674b93acb2c4771702598f",
       "version_major": 2,
       "version_minor": 0
      },
      "text/plain": [
       "Canvas(toolbar=Toolbar(toolitems=[('Home', 'Reset original view', 'home', 'home'), ('Back', 'Back to previous …"
      ]
     },
     "metadata": {},
     "output_type": "display_data"
    }
   ],
   "source": [
    "number_experiments = 4\n",
    "number_groups = 500\n",
    "counts = multinomial.Multinomial(number_experiments, \n",
    "                    fair_probs).sample((number_groups, )) # 500 groups with 10 experiments\n",
    "cum_counts = counts.cumsum(axis = 0) # cummulative count along columns\n",
    "estimates = cum_counts/cum_counts.sum(axis=1, keepdims=True) # cummulative frequencies\n",
    "\n",
    "plt.figure(figsize=(6, 4.5))\n",
    "for i in range(6):\n",
    "    plt.plot(estimates[:,i].numpy(),\n",
    "               label = (f\"P(die = {i + 1})\"))\n",
    "plt.axhline(y=0.167, color='black', linestyle='dashed')\n",
    "plt.gca().set_xlabel('Groups of experiments')\n",
    "plt.gca().set_ylabel('Estimated probability')\n",
    "plt.legend();"
   ]
  },
  {
   "cell_type": "markdown",
   "metadata": {},
   "source": [
    "Each solid curve corresponds to one of the six values of the die and gives our estimated probability that the die turns up that value as assessed after each group of experiments. The dashed black line gives the true underlying probability. As we get more data by conducting more experiments, the  6  solid curves converge towards the true probability."
   ]
  },
  {
   "cell_type": "markdown",
   "metadata": {},
   "source": [
    "### Axioms of Probability Theory\n",
    "\n",
    "When dealing with the rolls of a die,\n",
    "we call the set $\\mathcal{S} = \\{1, 2, 3, 4, 5, 6\\}$ the *sample space* or *outcome space*, where each element is an *outcome*.\n",
    "An *event* is a set of outcomes from a given sample space.\n",
    "For instance, \"seeing a $5$\" ($\\{5\\}$) and \"seeing an odd number\" ($\\{1, 3, 5\\}$) are both valid events of rolling a die.\n",
    "Note that if the outcome of a random experiment is in event $\\mathcal{A}$,\n",
    "then event $\\mathcal{A}$ has occurred.\n",
    "That is to say, if $3$ dots faced up after rolling a die, since $3 \\in \\{1, 3, 5\\}$,\n",
    "we can say that the event \"seeing an odd number\" has occurred.\n",
    "\n",
    "Formally, *probability* can be thought of a function that maps a set to a real value.\n",
    "The probability of an event $\\mathcal{A}$ in the given sample space $\\mathcal{S}$,\n",
    "denoted as $P(\\mathcal{A})$, satisfies the following properties:\n",
    "\n",
    "* For any event $\\mathcal{A}$, its probability is never negative, i.e., $P(\\mathcal{A}) \\geq 0$;\n",
    "* Probability of the entire sample space is $1$, i.e., $P(\\mathcal{S}) = 1$;\n",
    "* For any countable sequence of events $\\mathcal{A}_1, \\mathcal{A}_2, \\ldots$ that are *mutually exclusive* ($\\mathcal{A}_i \\cap \\mathcal{A}_j = \\emptyset$ for all $i \\neq j$), the probability that any happens is equal to the sum of their individual probabilities, i.e., $P(\\bigcup_{i=1}^{\\infty} \\mathcal{A}_i) = \\sum_{i=1}^{\\infty} P(\\mathcal{A}_i)$.\n",
    "\n",
    "These are also the axioms of probability theory, proposed by Kolmogorov in 1933.\n",
    "Thanks to this axiom system, we can avoid any philosophical dispute on randomness;\n",
    "instead, we can reason rigorously with a mathematical language.\n",
    "For instance, by letting event $\\mathcal{A}_1$ be the entire sample space and $\\mathcal{A}_i = \\emptyset$ for all $i > 1$, we can prove that $P(\\emptyset) = 0$, i.e., the probability of an impossible event is $0$."
   ]
  },
  {
   "cell_type": "markdown",
   "metadata": {},
   "source": [
    "### Random Variables\n",
    "\n",
    "In our random experiment of casting a die, we introduced the notion of a *random variable*. A random variable can be pretty much any quantity and is not deterministic. It could take one value among a set of possibilities in a random experiment.\n",
    "Consider a random variable $X$ whose value is in the sample space $\\mathcal{S} = \\{1, 2, 3, 4, 5, 6\\}$ of rolling a die. We can denote the event \"seeing a $5$\" as $\\{X = 5\\}$ or $X = 5$, and its probability as $P(\\{X = 5\\})$ or $P(X = 5)$.\n",
    "By $P(X = a)$, we make a distinction between the random variable $X$ and the values (e.g., $a$) that $X$ can take.\n",
    "However, such pedantry results in a cumbersome notation.\n",
    "For a compact notation,\n",
    "on one hand, we can just denote $P(X)$ as the *distribution* over the random variable $X$:\n",
    "the distribution tells us the probability that $X$ takes any value.\n",
    "On the other hand,\n",
    "we can simply write $P(a)$ to denote the probability that a random variable takes the value $a$.\n",
    "Since an event in probability theory is a set of outcomes from the sample space,\n",
    "we can specify a range of values for a random variable to take.\n",
    "For example, $P(1 \\leq X \\leq 3)$ denotes the probability of the event $\\{1 \\leq X \\leq 3\\}$,\n",
    "which means $\\{X = 1, 2, \\text{or}, 3\\}$. Equivalently, $P(1 \\leq X \\leq 3)$ represents the probability that the random variable $X$ can take a value from $\\{1, 2, 3\\}$.\n",
    "\n",
    "Note that there is a subtle difference between *discrete* random variables, like the sides of a die, and *continuous* ones, like the weight and the height of a person. There is little point in asking whether two people have exactly the same height. If we take precise enough measurements you will find that no two people on the planet have the exact same height. In fact, if we take a fine enough measurement, you will not have the same height when you wake up and when you go to sleep. So there is no purpose in asking about the probability\n",
    "that someone is 1.80139278291028719210196740527486202 meters tall. Given the world population of humans the probability is virtually 0. It makes more sense in this case to ask whether someone's height falls into a given interval, say between 1.79 and 1.81 meters. In these cases we quantify the likelihood that we see a value as a *density*. The height of exactly 1.80 meters has no probability, but nonzero density. In the interval between any two different heights we have nonzero probability.\n",
    "In the rest of this section, we consider probability in discrete space.\n",
    "For probability over continuous random variables, you may refer to :numref:`sec_random_variables`."
   ]
  },
  {
   "cell_type": "markdown",
   "metadata": {},
   "source": [
    "## Dealing with Multiple Random Variables\n",
    "\n",
    "Very often, we will want to consider more than one random variable at a time.\n",
    "For instance, we may want to model the relationship between diseases and symptoms. Given a disease and a symptom, say \"flu\" and \"cough\", either may or may not occur in a patient with some probability. While we hope that the probability of both would be close to zero, we may want to estimate these probabilities and their relationships to each other so that we may apply our inferences to effect better medical care.\n",
    "\n",
    "As a more complicated example, images contain millions of pixels, thus millions of random variables. And in many cases images will come with a\n",
    "label, identifying objects in the image. We can also think of the label as a\n",
    "random variable. We can even think of all the metadata as random variables\n",
    "such as location, time, aperture, focal length, ISO, focus distance, and camera type.\n",
    "All of these are random variables that occur jointly. When we deal with multiple random variables, there are several quantities of interest.\n",
    "\n",
    "### Joint Probability\n",
    "\n",
    "The first is called the *joint probability* $P(A = a, B=b)$. Given any values $a$ and $b$, the joint probability lets us answer, what is the probability that $A=a$ and $B=b$ simultaneously?\n",
    "Note that for any values $a$ and $b$, $P(A=a, B=b) \\leq P(A=a)$.\n",
    "This has to be the case, since for $A=a$ and $B=b$ to happen, $A=a$ has to happen *and* $B=b$ also has to happen (and vice versa). Thus, $A=a$ and $B=b$ cannot be more likely than $A=a$ or $B=b$ individually.\n",
    "\n",
    "\n",
    "### Conditional Probability\n",
    "\n",
    "This brings us to an interesting ratio: $0 \\leq \\frac{P(A=a, B=b)}{P(A=a)} \\leq 1$. We call this ratio a *conditional probability*\n",
    "and denote it by $P(B=b \\mid A=a)$: it is the probability of $B=b$, provided that\n",
    "$A=a$ has occurred.\n",
    "\n",
    "### Bayes' theorem\n",
    "\n",
    "Using the definition of conditional probabilities, we can derive one of the most useful and celebrated equations in statistics: *Bayes' theorem*.\n",
    "It goes as follows.\n",
    "By construction, we have the *multiplication rule* that $P(A, B) = P(B \\mid A) P(A)$. By symmetry, this also holds for $P(A, B) = P(A \\mid B) P(B)$. Assume that $P(B) > 0$. Solving for one of the conditional variables we get\n",
    "\n",
    "$$P(A \\mid B) = \\frac{P(B \\mid A) P(A)}{P(B)}.$$\n",
    "\n",
    "Note that here we use the more compact notation where $P(A, B)$ is a *joint distribution* and $P(A \\mid B)$ is a *conditional distribution*. Such distributions can be evaluated for particular values $A = a, B=b$.\n",
    "\n",
    "### Marginalization\n",
    "\n",
    "Bayes' theorem is very useful if we want to infer one thing from the other, say cause and effect, but we only know the properties in the reverse direction, as we will see later in this section. One important operation that we need, to make this work, is *marginalization*.\n",
    "It is the operation of determining $P(B)$ from $P(A, B)$. We can see that the probability of $B$ amounts to accounting for all possible choices of $A$ and aggregating the joint probabilities over all of them:\n",
    "\n",
    "$$P(B) = \\sum_{A} P(A, B),$$\n",
    "\n",
    "which is also known as the *sum rule*. The probability or distribution as a result of marginalization is called a *marginal probability* or a *marginal distribution*.\n",
    "\n",
    "\n",
    "### Independence\n",
    "\n",
    "Another useful property to check for is *dependence* vs. *independence*.\n",
    "Two random variables $A$ and $B$ being independent\n",
    "means that the occurrence of one event of $A$\n",
    "does not reveal any information about the occurrence of an event of $B$.\n",
    "In this case $P(B \\mid A) = P(B)$. Statisticians typically express this as $A \\perp  B$. From Bayes' theorem, it follows immediately that also $P(A \\mid B) = P(A)$.\n",
    "In all the other cases we call $A$ and $B$ dependent. For instance, two successive rolls of a die are independent. In contrast, the position of a light switch and the brightness in the room are not (they are not perfectly deterministic, though, since we could always have a broken light bulb, power failure, or a broken switch).\n",
    "\n",
    "Since $P(A \\mid B) = \\frac{P(A, B)}{P(B)} = P(A)$ is equivalent to $P(A, B) = P(A)P(B)$, two random variables are independent if and only if their joint distribution is the product of their individual distributions.\n",
    "Likewise, two random variables $A$ and $B$ are *conditionally independent* given another random variable $C$\n",
    "if and only if $P(A, B \\mid C) = P(A \\mid C)P(B \\mid C)$. This is expressed as $A \\perp B \\mid C$.\n",
    "\n",
    "### Application\n",
    ":label:`subsec_probability_hiv_app`\n",
    "\n",
    "Let us put our skills to the test. Assume that a doctor administers an AIDS test to a patient. This test is fairly accurate and it fails only with 1% probability if the patient is healthy but reporting him as diseased. Moreover,\n",
    "it never fails to detect HIV if the patient actually has it. We use $D_1$ to indicate the diagnosis ($1$ if positive and $0$ if negative) and $H$ to denote the HIV status ($1$ if positive and $0$ if negative).\n",
    ":numref:`conditional_prob_D1` lists such conditional probabilities.\n",
    "\n",
    ":Conditional probability of $P(D_1 \\mid H)$.\n",
    "\n",
    "| Conditional probability | $H=1$ | $H=0$ |\n",
    "|---|---|---|\n",
    "|$P(D_1 = 1 \\mid H)$|            1 |         0.01 |\n",
    "|$P(D_1 = 0 \\mid H)$|            0 |         0.99 |\n",
    ":label:`conditional_prob_D1`\n",
    "\n",
    "Note that the column sums are all 1 (but the row sums are not), since the conditional probability needs to sum up to 1, just like the probability. Let us work out the probability of the patient having AIDS if the test comes back positive, i.e., $P(H = 1 \\mid D_1 = 1)$. Obviously this is going to depend on how common the disease is, since it affects the number of false alarms. Assume that the population is quite healthy, e.g., $P(H=1) = 0.0015$. To apply Bayes' theorem, we need to apply marginalization and the multiplication rule to determine\n",
    "\n",
    "$$\\begin{aligned}\n",
    "&P(D_1 = 1) \\\\\n",
    "=& P(D_1=1, H=0) + P(D_1=1, H=1)  \\\\\n",
    "=& P(D_1=1 \\mid H=0) P(H=0) + P(D_1=1 \\mid H=1) P(H=1) \\\\\n",
    "=& 0.011485.\n",
    "\\end{aligned}\n",
    "$$\n",
    "\n",
    "Thus, we get\n",
    "\n",
    "$$\\begin{aligned}\n",
    "&P(H = 1 \\mid D_1 = 1)\\\\ =& \\frac{P(D_1=1 \\mid H=1) P(H=1)}{P(D_1=1)} \\\\ =& 0.1306 \\end{aligned}.$$\n",
    "\n",
    "In other words, there is only a 13.06% chance that the patient\n",
    "actually has AIDS, despite using a very accurate test.\n",
    "As we can see, probability can be counterintuitive.\n",
    "\n",
    "What should a patient do upon receiving such terrifying news? Likely, the patient\n",
    "would ask the physician to administer another test to get clarity. The second\n",
    "test has different characteristics and it is not as good as the first one, as shown in :numref:`conditional_prob_D2`.\n",
    "\n",
    "\n",
    ":Conditional probability of $P(D_2 \\mid H)$.\n",
    "\n",
    "| Conditional probability | $H=1$ | $H=0$ |\n",
    "|---|---|---|\n",
    "|$P(D_2 = 1 \\mid H)$|            0.98 |         0.03 |\n",
    "|$P(D_2 = 0 \\mid H)$|            0.02 |         0.97 |\n",
    ":label:`conditional_prob_D2`\n",
    "\n",
    "Unfortunately, the second test comes back positive, too.\n",
    "Let us work out the requisite probabilities to invoke Bayes' theorem\n",
    "by assuming the conditional independence:\n",
    "\n",
    "$$\\begin{aligned}\n",
    "&P(D_1 = 1, D_2 = 1 \\mid H = 0) \\\\\n",
    "=& P(D_1 = 1 \\mid H = 0) P(D_2 = 1 \\mid H = 0)  \\\\\n",
    "=& 0.0003,\n",
    "\\end{aligned}\n",
    "$$\n",
    "\n",
    "$$\\begin{aligned}\n",
    "&P(D_1 = 1, D_2 = 1 \\mid H = 1) \\\\\n",
    "=& P(D_1 = 1 \\mid H = 1) P(D_2 = 1 \\mid H = 1)  \\\\\n",
    "=& 0.98.\n",
    "\\end{aligned}\n",
    "$$\n",
    "\n",
    "Now we can apply marginalization and the multiplication rule:\n",
    "\n",
    "$$\\begin{aligned}\n",
    "&P(D_1 = 1, D_2 = 1) \\\\\n",
    "=& P(D_1 = 1, D_2 = 1, H = 0) + P(D_1 = 1, D_2 = 1, H = 1)  \\\\\n",
    "=& P(D_1 = 1, D_2 = 1 \\mid H = 0)P(H=0) + P(D_1 = 1, D_2 = 1 \\mid H = 1)P(H=1)\\\\\n",
    "=& 0.00176955.\n",
    "\\end{aligned}\n",
    "$$\n",
    "\n",
    "In the end, the probability of the patient having AIDS given both positive tests is\n",
    "\n",
    "$$\\begin{aligned}\n",
    "&P(H = 1 \\mid D_1 = 1, D_2 = 1)\\\\\n",
    "=& \\frac{P(D_1 = 1, D_2 = 1 \\mid H=1) P(H=1)}{P(D_1 = 1, D_2 = 1)} \\\\\n",
    "=& 0.8307.\n",
    "\\end{aligned}\n",
    "$$\n",
    "\n",
    "That is, the second test allowed us to gain much higher confidence that not all is well. Despite the second test being considerably less accurate than the first one, it still significantly improved our estimate.\n",
    "\n",
    "\n",
    "\n",
    "## Expectation and Variance\n",
    "\n",
    "To summarize key characteristics of probability distributions,\n",
    "we need some measures.\n",
    "The *expectation* (or average) of the random variable $X$ is denoted as\n",
    "\n",
    "$$E[X] = \\sum_{x} x P(X = x).$$\n",
    "\n",
    "When the input of a function $f(x)$ is a random variable drawn from the distribution $P$ with different values $x$,\n",
    "the expectation of $f(x)$ is computed as\n",
    "\n",
    "$$E_{x \\sim P}[f(x)] = \\sum_x f(x) P(x).$$\n",
    "\n",
    "\n",
    "In many cases we want to measure by how much the random variable $X$ deviates from its expectation. This can be quantified by the variance\n",
    "\n",
    "$$\\mathrm{Var}[X] = E\\left[(X - E[X])^2\\right] =\n",
    "E[X^2] - E[X]^2.$$\n",
    "\n",
    "Its square root is called the *standard deviation*.\n",
    "The variance of a function of a random variable measures\n",
    "by how much the function deviates from the expectation of the function,\n",
    "as different values $x$ of the random variable are sampled from its distribution:\n",
    "\n",
    "$$\\mathrm{Var}[f(x)] = E\\left[\\left(f(x) - E[f(x)]\\right)^2\\right].$$\n",
    "\n",
    "\n",
    "## Summary\n",
    "\n",
    "* We can sample from probability distributions.\n",
    "* We can analyze multiple random variables using joint distribution, conditional distribution, Bayes' theorem, marginalization, and independence assumptions.\n",
    "* Expectation and variance offer useful measures to summarize key characteristics of probability distributions."
   ]
  },
  {
   "cell_type": "markdown",
   "metadata": {},
   "source": [
    "## Exercises\n",
    "\n",
    "1. We conducted $m=500$ groups of experiments where each group draws $n=10$ samples. Vary $m$ and $n$. Observe and analyze the experimental results."
   ]
  },
  {
   "cell_type": "markdown",
   "metadata": {},
   "source": [
    "If we use greater values for m or for n, the probability will converge faster"
   ]
  },
  {
   "cell_type": "code",
   "execution_count": 46,
   "metadata": {},
   "outputs": [
    {
     "data": {
      "application/vnd.jupyter.widget-view+json": {
       "model_id": "e583e527c5d345c4b96de2b4da824356",
       "version_major": 2,
       "version_minor": 0
      },
      "text/plain": [
       "Canvas(toolbar=Toolbar(toolitems=[('Home', 'Reset original view', 'home', 'home'), ('Back', 'Back to previous …"
      ]
     },
     "metadata": {},
     "output_type": "display_data"
    }
   ],
   "source": [
    "number_experiments = 500\n",
    "number_groups = 1000\n",
    "counts = multinomial.Multinomial(number_experiments, \n",
    "                    fair_probs).sample((number_groups,)) # 500 groups with 10 experiments\n",
    "cum_counts = counts.cumsum(axis = 0) # cummulative count along columns\n",
    "estimates = cum_counts/cum_counts.sum(axis=1, keepdims=True) # cummulative frequencies\n",
    "\n",
    "plt.figure(figsize=(6, 4.5))\n",
    "for i in range(6):\n",
    "    plt.plot(estimates[:,i].numpy(),\n",
    "               label = (f\"P(die = {i + 1})\"))\n",
    "plt.axhline(y=0.167, color='black', linestyle='dashed')\n",
    "plt.gca().set_xlabel('Groups of experiments')\n",
    "plt.gca().set_ylabel('Estimated probability')\n",
    "plt.legend();"
   ]
  },
  {
   "cell_type": "markdown",
   "metadata": {},
   "source": [
    "2. Given two events with probability $P(\\mathcal{A})$ and $P(\\mathcal{B})$, compute upper and lower bounds on $P(\\mathcal{A} \\cup \\mathcal{B})$ and $P(\\mathcal{A} \\cap \\mathcal{B})$. (Hint: display the situation using a [Venn Diagram](https://en.wikipedia.org/wiki/Venn_diagram).)"
   ]
  },
  {
   "cell_type": "markdown",
   "metadata": {},
   "source": [
    "$P(\\mathcal{A}\\cup\\mathcal{B}) \\leq P(\\mathcal{A}) + P(\\mathcal{B})$ <br/>\n",
    "$P(\\mathcal{A}\\cap\\mathcal{B}) \\leq P(\\mathcal{A})$  <br/>\n",
    "$P(\\mathcal{A}\\cap\\mathcal{B}) \\leq P(\\mathcal{B})$"
   ]
  },
  {
   "cell_type": "markdown",
   "metadata": {},
   "source": [
    "3. Assume that we have a sequence of random variables, say $A$, $B$, and $C$, where $B$ only depends on $A$, and $C$ only depends on $B$, can you simplify the joint probability $P(A, B, C)$? (Hint: this is a [Markov Chain](https://en.wikipedia.org/wiki/Markov_chain).)"
   ]
  },
  {
   "cell_type": "markdown",
   "metadata": {},
   "source": [
    "4. In :numref:`subsec_probability_hiv_app`, the first test is more accurate. Why not just run the first test a second time?"
   ]
  },
  {
   "cell_type": "markdown",
   "metadata": {},
   "source": [
    "Because then the first test and the second will be mutally dependent"
   ]
  }
 ],
 "metadata": {
  "kernelspec": {
   "display_name": "Python 3",
   "language": "python",
   "name": "python3"
  },
  "language_info": {
   "codemirror_mode": {
    "name": "ipython",
    "version": 3
   },
   "file_extension": ".py",
   "mimetype": "text/x-python",
   "name": "python",
   "nbconvert_exporter": "python",
   "pygments_lexer": "ipython3",
   "version": "3.7.7"
  },
  "toc": {
   "base_numbering": 1,
   "nav_menu": {},
   "number_sections": true,
   "sideBar": true,
   "skip_h1_title": false,
   "title_cell": "Table of Contents",
   "title_sidebar": "Contents",
   "toc_cell": false,
   "toc_position": {},
   "toc_section_display": true,
   "toc_window_display": true
  },
  "widgets": {
   "application/vnd.jupyter.widget-state+json": {
    "state": {
     "02267a0535b647459e52fab785ba78dc": {
      "model_module": "jupyter-matplotlib",
      "model_module_version": "^0.7.2",
      "model_name": "ToolbarModel",
      "state": {
       "layout": "IPY_MODEL_d40d4bcb59f047a39e78a543403fb522",
       "toolitems": [
        [
         "Home",
         "Reset original view",
         "home",
         "home"
        ],
        [
         "Back",
         "Back to previous view",
         "arrow-left",
         "back"
        ],
        [
         "Forward",
         "Forward to next view",
         "arrow-right",
         "forward"
        ],
        [
         "Pan",
         "Pan axes with left mouse, zoom with right",
         "arrows",
         "pan"
        ],
        [
         "Zoom",
         "Zoom to rectangle",
         "square-o",
         "zoom"
        ],
        [
         "Download",
         "Download plot",
         "floppy-o",
         "save_figure"
        ]
       ]
      }
     },
     "13843c5749874ccfb9aa5926604a33a3": {
      "model_module": "@jupyter-widgets/base",
      "model_module_version": "1.2.0",
      "model_name": "LayoutModel",
      "state": {}
     },
     "1468747b739b4f64a05acd2ef7b04c8f": {
      "model_module": "@jupyter-widgets/base",
      "model_module_version": "1.2.0",
      "model_name": "LayoutModel",
      "state": {}
     },
     "16a764f70d7d4a81aa1e67028856731e": {
      "model_module": "jupyter-matplotlib",
      "model_module_version": "^0.7.2",
      "model_name": "MPLCanvasModel",
      "state": {
       "_cursor": "default",
       "_figure_label": "Figure 2",
       "_height": 450,
       "_width": 600,
       "layout": "IPY_MODEL_5c2e86ddb36844b7b9ab80707881eee2",
       "toolbar": "IPY_MODEL_51c159181b9f4acc97edfc38eb648a75",
       "toolbar_position": "left"
      }
     },
     "1fa7165d2cef49eba2e09096aa2a2c8c": {
      "model_module": "@jupyter-widgets/base",
      "model_module_version": "1.2.0",
      "model_name": "LayoutModel",
      "state": {}
     },
     "230604f2a8264956a768add8e1f6759a": {
      "model_module": "@jupyter-widgets/base",
      "model_module_version": "1.2.0",
      "model_name": "LayoutModel",
      "state": {}
     },
     "25555038d20042b4b1484957d3ae74a8": {
      "model_module": "@jupyter-widgets/base",
      "model_module_version": "1.2.0",
      "model_name": "LayoutModel",
      "state": {}
     },
     "25ffe1fc42594b9285e2efcd2f1f467f": {
      "model_module": "jupyter-matplotlib",
      "model_module_version": "^0.7.2",
      "model_name": "MPLCanvasModel",
      "state": {
       "_cursor": "default",
       "_figure_label": "Figure 5",
       "_height": 450,
       "_width": 600,
       "layout": "IPY_MODEL_3e1c4ee779274257ab6e45b6285263cc",
       "toolbar": "IPY_MODEL_6783d88800bc4f8b8677ea81ddda1c79",
       "toolbar_position": "left"
      }
     },
     "26b5f5fecb41426bb7d0edc5b297ccac": {
      "model_module": "jupyter-matplotlib",
      "model_module_version": "^0.7.2",
      "model_name": "ToolbarModel",
      "state": {
       "layout": "IPY_MODEL_47972397d49149bb877b325261ed84cf",
       "toolitems": [
        [
         "Home",
         "Reset original view",
         "home",
         "home"
        ],
        [
         "Back",
         "Back to previous view",
         "arrow-left",
         "back"
        ],
        [
         "Forward",
         "Forward to next view",
         "arrow-right",
         "forward"
        ],
        [
         "Pan",
         "Pan axes with left mouse, zoom with right",
         "arrows",
         "pan"
        ],
        [
         "Zoom",
         "Zoom to rectangle",
         "square-o",
         "zoom"
        ],
        [
         "Download",
         "Download plot",
         "floppy-o",
         "save_figure"
        ]
       ]
      }
     },
     "28e6dc2d65ae4d0ba74d881479f6a6d8": {
      "model_module": "@jupyter-widgets/base",
      "model_module_version": "1.2.0",
      "model_name": "LayoutModel",
      "state": {}
     },
     "2aa55de27fb64329995f8354322756f7": {
      "model_module": "@jupyter-widgets/base",
      "model_module_version": "1.2.0",
      "model_name": "LayoutModel",
      "state": {}
     },
     "2d345635b51b4f13bee595bf2d9c9c3c": {
      "model_module": "jupyter-matplotlib",
      "model_module_version": "^0.7.2",
      "model_name": "MPLCanvasModel",
      "state": {
       "_cursor": "default",
       "_figure_label": "Figure 9",
       "_height": 450,
       "_width": 600,
       "layout": "IPY_MODEL_1468747b739b4f64a05acd2ef7b04c8f",
       "toolbar": "IPY_MODEL_e813708cde6347eb88de8d7f7c969da9",
       "toolbar_position": "left"
      }
     },
     "388f813a714d434eb704f56bc54b50a0": {
      "model_module": "@jupyter-widgets/base",
      "model_module_version": "1.2.0",
      "model_name": "LayoutModel",
      "state": {}
     },
     "3e1c4ee779274257ab6e45b6285263cc": {
      "model_module": "@jupyter-widgets/base",
      "model_module_version": "1.2.0",
      "model_name": "LayoutModel",
      "state": {}
     },
     "3f61702a259a4aeda17f3333c1743d07": {
      "model_module": "@jupyter-widgets/base",
      "model_module_version": "1.2.0",
      "model_name": "LayoutModel",
      "state": {}
     },
     "47972397d49149bb877b325261ed84cf": {
      "model_module": "@jupyter-widgets/base",
      "model_module_version": "1.2.0",
      "model_name": "LayoutModel",
      "state": {}
     },
     "4bd5d688a22c48d789c853e574183588": {
      "model_module": "@jupyter-widgets/base",
      "model_module_version": "1.2.0",
      "model_name": "LayoutModel",
      "state": {}
     },
     "51c159181b9f4acc97edfc38eb648a75": {
      "model_module": "jupyter-matplotlib",
      "model_module_version": "^0.7.2",
      "model_name": "ToolbarModel",
      "state": {
       "layout": "IPY_MODEL_97eaa34188c448f68a32385aa3486456",
       "toolitems": [
        [
         "Home",
         "Reset original view",
         "home",
         "home"
        ],
        [
         "Back",
         "Back to previous view",
         "arrow-left",
         "back"
        ],
        [
         "Forward",
         "Forward to next view",
         "arrow-right",
         "forward"
        ],
        [
         "Pan",
         "Pan axes with left mouse, zoom with right",
         "arrows",
         "pan"
        ],
        [
         "Zoom",
         "Zoom to rectangle",
         "square-o",
         "zoom"
        ],
        [
         "Download",
         "Download plot",
         "floppy-o",
         "save_figure"
        ]
       ]
      }
     },
     "51e29d394e83484a8f47e27de5b35efd": {
      "model_module": "@jupyter-widgets/base",
      "model_module_version": "1.2.0",
      "model_name": "LayoutModel",
      "state": {}
     },
     "5922c15a32e945b58a8dfa226e6e587e": {
      "model_module": "jupyter-matplotlib",
      "model_module_version": "^0.7.2",
      "model_name": "MPLCanvasModel",
      "state": {
       "_cursor": "default",
       "_figure_label": "Figure 3",
       "_height": 450,
       "_width": 600,
       "layout": "IPY_MODEL_4bd5d688a22c48d789c853e574183588",
       "toolbar": "IPY_MODEL_9e3097b0dfed46b5b598ea5e543daada",
       "toolbar_position": "left"
      }
     },
     "5a2b75e317404d19b174e779376f3198": {
      "model_module": "jupyter-matplotlib",
      "model_module_version": "^0.7.2",
      "model_name": "ToolbarModel",
      "state": {
       "layout": "IPY_MODEL_51e29d394e83484a8f47e27de5b35efd",
       "toolitems": [
        [
         "Home",
         "Reset original view",
         "home",
         "home"
        ],
        [
         "Back",
         "Back to previous view",
         "arrow-left",
         "back"
        ],
        [
         "Forward",
         "Forward to next view",
         "arrow-right",
         "forward"
        ],
        [
         "Pan",
         "Pan axes with left mouse, zoom with right",
         "arrows",
         "pan"
        ],
        [
         "Zoom",
         "Zoom to rectangle",
         "square-o",
         "zoom"
        ],
        [
         "Download",
         "Download plot",
         "floppy-o",
         "save_figure"
        ]
       ]
      }
     },
     "5ae08edb85aa4d33bfe69bc72cfdd296": {
      "model_module": "@jupyter-widgets/base",
      "model_module_version": "1.2.0",
      "model_name": "LayoutModel",
      "state": {}
     },
     "5ba902be9e5c46d79ef33b6d5e68b267": {
      "model_module": "jupyter-matplotlib",
      "model_module_version": "^0.7.2",
      "model_name": "MPLCanvasModel",
      "state": {
       "_cursor": "default",
       "_figure_label": "Figure 6",
       "_height": 450,
       "_width": 600,
       "layout": "IPY_MODEL_3f61702a259a4aeda17f3333c1743d07",
       "toolbar": "IPY_MODEL_02267a0535b647459e52fab785ba78dc",
       "toolbar_position": "left"
      }
     },
     "5c2e86ddb36844b7b9ab80707881eee2": {
      "model_module": "@jupyter-widgets/base",
      "model_module_version": "1.2.0",
      "model_name": "LayoutModel",
      "state": {}
     },
     "628f39a90aa84ee18f73f491642aa1f7": {
      "model_module": "jupyter-matplotlib",
      "model_module_version": "^0.7.2",
      "model_name": "MPLCanvasModel",
      "state": {
       "_cursor": "default",
       "_figure_label": "Figure 11",
       "_height": 450,
       "_image_mode": "diff",
       "_width": 600,
       "layout": "IPY_MODEL_e2db06dec14b4724acee7741b7c9fd3d",
       "toolbar": "IPY_MODEL_66dda130b99b42ad95abaadc1402e801",
       "toolbar_position": "left"
      }
     },
     "62abdf2f4c55411b9bde49fb39eb9c70": {
      "model_module": "@jupyter-widgets/base",
      "model_module_version": "1.2.0",
      "model_name": "LayoutModel",
      "state": {}
     },
     "66dda130b99b42ad95abaadc1402e801": {
      "model_module": "jupyter-matplotlib",
      "model_module_version": "^0.7.2",
      "model_name": "ToolbarModel",
      "state": {
       "layout": "IPY_MODEL_5ae08edb85aa4d33bfe69bc72cfdd296",
       "toolitems": [
        [
         "Home",
         "Reset original view",
         "home",
         "home"
        ],
        [
         "Back",
         "Back to previous view",
         "arrow-left",
         "back"
        ],
        [
         "Forward",
         "Forward to next view",
         "arrow-right",
         "forward"
        ],
        [
         "Pan",
         "Pan axes with left mouse, zoom with right",
         "arrows",
         "pan"
        ],
        [
         "Zoom",
         "Zoom to rectangle",
         "square-o",
         "zoom"
        ],
        [
         "Download",
         "Download plot",
         "floppy-o",
         "save_figure"
        ]
       ]
      }
     },
     "6783d88800bc4f8b8677ea81ddda1c79": {
      "model_module": "jupyter-matplotlib",
      "model_module_version": "^0.7.2",
      "model_name": "ToolbarModel",
      "state": {
       "layout": "IPY_MODEL_6d108fe36bdf4ca19f36fc2e6f8ae6eb",
       "toolitems": [
        [
         "Home",
         "Reset original view",
         "home",
         "home"
        ],
        [
         "Back",
         "Back to previous view",
         "arrow-left",
         "back"
        ],
        [
         "Forward",
         "Forward to next view",
         "arrow-right",
         "forward"
        ],
        [
         "Pan",
         "Pan axes with left mouse, zoom with right",
         "arrows",
         "pan"
        ],
        [
         "Zoom",
         "Zoom to rectangle",
         "square-o",
         "zoom"
        ],
        [
         "Download",
         "Download plot",
         "floppy-o",
         "save_figure"
        ]
       ]
      }
     },
     "6bf261ea8e3349b0a1f4e8f4b12a558d": {
      "model_module": "@jupyter-widgets/base",
      "model_module_version": "1.2.0",
      "model_name": "LayoutModel",
      "state": {}
     },
     "6d108fe36bdf4ca19f36fc2e6f8ae6eb": {
      "model_module": "@jupyter-widgets/base",
      "model_module_version": "1.2.0",
      "model_name": "LayoutModel",
      "state": {}
     },
     "74a65f41ebe04dc8a0d7faa186a94b56": {
      "model_module": "@jupyter-widgets/base",
      "model_module_version": "1.2.0",
      "model_name": "LayoutModel",
      "state": {}
     },
     "7cd72ec4b0d64327bb7f330624cdbb58": {
      "model_module": "@jupyter-widgets/base",
      "model_module_version": "1.2.0",
      "model_name": "LayoutModel",
      "state": {}
     },
     "7f6b08ba3bf34c83ae0ba21d1a2ef40d": {
      "model_module": "@jupyter-widgets/base",
      "model_module_version": "1.2.0",
      "model_name": "LayoutModel",
      "state": {}
     },
     "82b60d4289394345ae03deedc56ca47f": {
      "model_module": "jupyter-matplotlib",
      "model_module_version": "^0.7.2",
      "model_name": "ToolbarModel",
      "state": {
       "layout": "IPY_MODEL_7cd72ec4b0d64327bb7f330624cdbb58",
       "toolitems": [
        [
         "Home",
         "Reset original view",
         "home",
         "home"
        ],
        [
         "Back",
         "Back to previous view",
         "arrow-left",
         "back"
        ],
        [
         "Forward",
         "Forward to next view",
         "arrow-right",
         "forward"
        ],
        [
         "Pan",
         "Pan axes with left mouse, zoom with right",
         "arrows",
         "pan"
        ],
        [
         "Zoom",
         "Zoom to rectangle",
         "square-o",
         "zoom"
        ],
        [
         "Download",
         "Download plot",
         "floppy-o",
         "save_figure"
        ]
       ]
      }
     },
     "9781cfd570b04997b77ec5e0c92e5510": {
      "model_module": "@jupyter-widgets/base",
      "model_module_version": "1.2.0",
      "model_name": "LayoutModel",
      "state": {}
     },
     "97eaa34188c448f68a32385aa3486456": {
      "model_module": "@jupyter-widgets/base",
      "model_module_version": "1.2.0",
      "model_name": "LayoutModel",
      "state": {}
     },
     "9c09c40ebfb54991ba58abc7bf690890": {
      "model_module": "jupyter-matplotlib",
      "model_module_version": "^0.7.2",
      "model_name": "ToolbarModel",
      "state": {
       "layout": "IPY_MODEL_1fa7165d2cef49eba2e09096aa2a2c8c",
       "toolitems": [
        [
         "Home",
         "Reset original view",
         "home",
         "home"
        ],
        [
         "Back",
         "Back to previous view",
         "arrow-left",
         "back"
        ],
        [
         "Forward",
         "Forward to next view",
         "arrow-right",
         "forward"
        ],
        [
         "Pan",
         "Pan axes with left mouse, zoom with right",
         "arrows",
         "pan"
        ],
        [
         "Zoom",
         "Zoom to rectangle",
         "square-o",
         "zoom"
        ],
        [
         "Download",
         "Download plot",
         "floppy-o",
         "save_figure"
        ]
       ]
      }
     },
     "9e3097b0dfed46b5b598ea5e543daada": {
      "model_module": "jupyter-matplotlib",
      "model_module_version": "^0.7.2",
      "model_name": "ToolbarModel",
      "state": {
       "layout": "IPY_MODEL_a0f70bb31d5b4a4c869e1c36ca37e69e",
       "toolitems": [
        [
         "Home",
         "Reset original view",
         "home",
         "home"
        ],
        [
         "Back",
         "Back to previous view",
         "arrow-left",
         "back"
        ],
        [
         "Forward",
         "Forward to next view",
         "arrow-right",
         "forward"
        ],
        [
         "Pan",
         "Pan axes with left mouse, zoom with right",
         "arrows",
         "pan"
        ],
        [
         "Zoom",
         "Zoom to rectangle",
         "square-o",
         "zoom"
        ],
        [
         "Download",
         "Download plot",
         "floppy-o",
         "save_figure"
        ]
       ]
      }
     },
     "a0f70bb31d5b4a4c869e1c36ca37e69e": {
      "model_module": "@jupyter-widgets/base",
      "model_module_version": "1.2.0",
      "model_name": "LayoutModel",
      "state": {}
     },
     "aece09c650824db991e5caa7638bd9a5": {
      "model_module": "@jupyter-widgets/base",
      "model_module_version": "1.2.0",
      "model_name": "LayoutModel",
      "state": {}
     },
     "af248129dbc1432784f906bd548c9814": {
      "model_module": "jupyter-matplotlib",
      "model_module_version": "^0.7.2",
      "model_name": "MPLCanvasModel",
      "state": {
       "_cursor": "default",
       "_figure_label": "Figure 10",
       "_height": 450,
       "_image_mode": "diff",
       "_width": 600,
       "layout": "IPY_MODEL_62abdf2f4c55411b9bde49fb39eb9c70",
       "toolbar": "IPY_MODEL_26b5f5fecb41426bb7d0edc5b297ccac",
       "toolbar_position": "left"
      }
     },
     "b57aa108fbaf4294851ba1dcdbaf0a3e": {
      "model_module": "jupyter-matplotlib",
      "model_module_version": "^0.7.2",
      "model_name": "MPLCanvasModel",
      "state": {
       "_cursor": "default",
       "_figure_label": "Figure 7",
       "_height": 450,
       "_width": 600,
       "layout": "IPY_MODEL_e396a0ded7bf4cd08841d0335c4de163",
       "toolbar": "IPY_MODEL_ce0fd31401584371834a98783ef83b38",
       "toolbar_position": "left"
      }
     },
     "b69483ba118749979e2a8ceffbe9135e": {
      "model_module": "jupyter-matplotlib",
      "model_module_version": "^0.7.2",
      "model_name": "ToolbarModel",
      "state": {
       "layout": "IPY_MODEL_6bf261ea8e3349b0a1f4e8f4b12a558d",
       "toolitems": [
        [
         "Home",
         "Reset original view",
         "home",
         "home"
        ],
        [
         "Back",
         "Back to previous view",
         "arrow-left",
         "back"
        ],
        [
         "Forward",
         "Forward to next view",
         "arrow-right",
         "forward"
        ],
        [
         "Pan",
         "Pan axes with left mouse, zoom with right",
         "arrows",
         "pan"
        ],
        [
         "Zoom",
         "Zoom to rectangle",
         "square-o",
         "zoom"
        ],
        [
         "Download",
         "Download plot",
         "floppy-o",
         "save_figure"
        ]
       ]
      }
     },
     "c3fc072ca6074ec086f9e49c20495e46": {
      "model_module": "jupyter-matplotlib",
      "model_module_version": "^0.7.2",
      "model_name": "MPLCanvasModel",
      "state": {
       "_cursor": "default",
       "_figure_label": "Figure 1",
       "_height": 450,
       "_width": 600,
       "layout": "IPY_MODEL_2aa55de27fb64329995f8354322756f7",
       "toolbar": "IPY_MODEL_82b60d4289394345ae03deedc56ca47f",
       "toolbar_position": "left"
      }
     },
     "ce0fd31401584371834a98783ef83b38": {
      "model_module": "jupyter-matplotlib",
      "model_module_version": "^0.7.2",
      "model_name": "ToolbarModel",
      "state": {
       "layout": "IPY_MODEL_fb2974f8bfaa47d18493d9584551d978",
       "toolitems": [
        [
         "Home",
         "Reset original view",
         "home",
         "home"
        ],
        [
         "Back",
         "Back to previous view",
         "arrow-left",
         "back"
        ],
        [
         "Forward",
         "Forward to next view",
         "arrow-right",
         "forward"
        ],
        [
         "Pan",
         "Pan axes with left mouse, zoom with right",
         "arrows",
         "pan"
        ],
        [
         "Zoom",
         "Zoom to rectangle",
         "square-o",
         "zoom"
        ],
        [
         "Download",
         "Download plot",
         "floppy-o",
         "save_figure"
        ]
       ]
      }
     },
     "ce3b8c41dbf54daaba7a470ea7b795d6": {
      "model_module": "@jupyter-widgets/base",
      "model_module_version": "1.2.0",
      "model_name": "LayoutModel",
      "state": {}
     },
     "cef79e1db3a049679758d9eeffdbcae9": {
      "model_module": "jupyter-matplotlib",
      "model_module_version": "^0.7.2",
      "model_name": "MPLCanvasModel",
      "state": {
       "_cursor": "default",
       "_figure_label": "Figure 4",
       "_height": 450,
       "_width": 600,
       "layout": "IPY_MODEL_7f6b08ba3bf34c83ae0ba21d1a2ef40d",
       "toolbar": "IPY_MODEL_df3f93fe638148328af5f33ff97b9ad2",
       "toolbar_position": "left"
      }
     },
     "d076f63c7b0249bba94e1e9650e57760": {
      "model_module": "jupyter-matplotlib",
      "model_module_version": "^0.7.2",
      "model_name": "ToolbarModel",
      "state": {
       "layout": "IPY_MODEL_9781cfd570b04997b77ec5e0c92e5510",
       "toolitems": [
        [
         "Home",
         "Reset original view",
         "home",
         "home"
        ],
        [
         "Back",
         "Back to previous view",
         "arrow-left",
         "back"
        ],
        [
         "Forward",
         "Forward to next view",
         "arrow-right",
         "forward"
        ],
        [
         "Pan",
         "Pan axes with left mouse, zoom with right",
         "arrows",
         "pan"
        ],
        [
         "Zoom",
         "Zoom to rectangle",
         "square-o",
         "zoom"
        ],
        [
         "Download",
         "Download plot",
         "floppy-o",
         "save_figure"
        ]
       ]
      }
     },
     "d303ceab689d410e9b8840778f7cc88f": {
      "model_module": "jupyter-matplotlib",
      "model_module_version": "^0.7.2",
      "model_name": "ToolbarModel",
      "state": {
       "_current_action": "pan",
       "layout": "IPY_MODEL_aece09c650824db991e5caa7638bd9a5",
       "toolitems": [
        [
         "Home",
         "Reset original view",
         "home",
         "home"
        ],
        [
         "Back",
         "Back to previous view",
         "arrow-left",
         "back"
        ],
        [
         "Forward",
         "Forward to next view",
         "arrow-right",
         "forward"
        ],
        [
         "Pan",
         "Pan axes with left mouse, zoom with right",
         "arrows",
         "pan"
        ],
        [
         "Zoom",
         "Zoom to rectangle",
         "square-o",
         "zoom"
        ],
        [
         "Download",
         "Download plot",
         "floppy-o",
         "save_figure"
        ]
       ]
      }
     },
     "d40d4bcb59f047a39e78a543403fb522": {
      "model_module": "@jupyter-widgets/base",
      "model_module_version": "1.2.0",
      "model_name": "LayoutModel",
      "state": {}
     },
     "df3f93fe638148328af5f33ff97b9ad2": {
      "model_module": "jupyter-matplotlib",
      "model_module_version": "^0.7.2",
      "model_name": "ToolbarModel",
      "state": {
       "layout": "IPY_MODEL_25555038d20042b4b1484957d3ae74a8",
       "toolitems": [
        [
         "Home",
         "Reset original view",
         "home",
         "home"
        ],
        [
         "Back",
         "Back to previous view",
         "arrow-left",
         "back"
        ],
        [
         "Forward",
         "Forward to next view",
         "arrow-right",
         "forward"
        ],
        [
         "Pan",
         "Pan axes with left mouse, zoom with right",
         "arrows",
         "pan"
        ],
        [
         "Zoom",
         "Zoom to rectangle",
         "square-o",
         "zoom"
        ],
        [
         "Download",
         "Download plot",
         "floppy-o",
         "save_figure"
        ]
       ]
      }
     },
     "e2db06dec14b4724acee7741b7c9fd3d": {
      "model_module": "@jupyter-widgets/base",
      "model_module_version": "1.2.0",
      "model_name": "LayoutModel",
      "state": {}
     },
     "e396a0ded7bf4cd08841d0335c4de163": {
      "model_module": "@jupyter-widgets/base",
      "model_module_version": "1.2.0",
      "model_name": "LayoutModel",
      "state": {}
     },
     "e813708cde6347eb88de8d7f7c969da9": {
      "model_module": "jupyter-matplotlib",
      "model_module_version": "^0.7.2",
      "model_name": "ToolbarModel",
      "state": {
       "layout": "IPY_MODEL_74a65f41ebe04dc8a0d7faa186a94b56",
       "toolitems": [
        [
         "Home",
         "Reset original view",
         "home",
         "home"
        ],
        [
         "Back",
         "Back to previous view",
         "arrow-left",
         "back"
        ],
        [
         "Forward",
         "Forward to next view",
         "arrow-right",
         "forward"
        ],
        [
         "Pan",
         "Pan axes with left mouse, zoom with right",
         "arrows",
         "pan"
        ],
        [
         "Zoom",
         "Zoom to rectangle",
         "square-o",
         "zoom"
        ],
        [
         "Download",
         "Download plot",
         "floppy-o",
         "save_figure"
        ]
       ]
      }
     },
     "ea1e49bfde13432e94a32c8c18037f00": {
      "model_module": "jupyter-matplotlib",
      "model_module_version": "^0.7.2",
      "model_name": "MPLCanvasModel",
      "state": {
       "_cursor": "default",
       "_figure_label": "Figure 8",
       "_height": 450,
       "_width": 600,
       "layout": "IPY_MODEL_13843c5749874ccfb9aa5926604a33a3",
       "toolbar": "IPY_MODEL_9c09c40ebfb54991ba58abc7bf690890",
       "toolbar_position": "left"
      }
     },
     "fb2974f8bfaa47d18493d9584551d978": {
      "model_module": "@jupyter-widgets/base",
      "model_module_version": "1.2.0",
      "model_name": "LayoutModel",
      "state": {}
     }
    },
    "version_major": 2,
    "version_minor": 0
   }
  }
 },
 "nbformat": 4,
 "nbformat_minor": 4
}
